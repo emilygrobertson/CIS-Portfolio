{
 "cells": [
  {
   "cell_type": "markdown",
   "metadata": {},
   "source": [
    "# MSBA 443-01 - Analytics Programming\n",
    "## Lab 1\n",
    "__Grading ID__: D7759<br>\n",
    "__Due__: Monday, August 31 (by 11:59 PM)<br />\n",
    "__Worth__: 25 pts."
   ]
  },
  {
   "cell_type": "markdown",
   "metadata": {},
   "source": [
    "### Directions\n",
    "In the code cell below, write Python code to accomplish the following using what you've learned through Chapter 2. Prompt the user to enter a whole dollar amount (from 1 - 99 for this application) to be withdrawn from our virtual ATM. For the moment, you may assume that the user follows your directions for the input. Calculate and print the number of bills of each denomination (twenties, tens, fives, and ones) that should be dispensed, minimizing the total number of bills used. Start with twenties and work your way down to ones. If no bills of a particular denomination are needed, skip that bill in the output. (25 pts.)\n",
    "### Sample Output\n",
    "<div class=\"alert alert-block alert-info\">\n",
    "    Welcome to the CIS 443 Virtual ATM!<br />\n",
    "    Enter whole dollar amount (1 - 99): 94<br /><br />\n",
    "    Dispense:<br />\n",
    "    4 twenties<br />\n",
    "    1 tens<br />\n",
    "    4 ones<br />\n",
    "</div>"
   ]
  },
  {
   "cell_type": "markdown",
   "metadata": {},
   "source": [
    "Be sure to save and exit your Jupyter Notebook and Shutdown Jupyter Lab (from the __File__ menu) before you submit your notebook on Blackboard for grading."
   ]
  },
  {
   "cell_type": "code",
   "execution_count": null,
   "metadata": {},
   "outputs": [
    {
     "name": "stdout",
     "output_type": "stream",
     "text": [
      "Hi, Welcome to the CIS 443 Virtual ATM!\n",
      "\n"
     ]
    }
   ],
   "source": [
    "\n",
    "print (\"Hi, Welcome to the CIS 443 Virtual ATM!\\n\")\n",
    "number= int(input('Please enter a whole dollar amount between 1-99:'))\n",
    "\n",
    "print(\"\\nDispense:\")\n",
    "\n",
    "twenties = number / 20\n",
    "number = number % 20\n",
    "print (int(twenties), \"twenties\")\n",
    "\n",
    "tens = number / 10\n",
    "number = number % 10\n",
    "print(int(tens), \"tens\")\n",
    "\n",
    "ones = number / 1\n",
    "number = number % 1\n",
    "print(int(ones), \"ones\")\n",
    "\n"
   ]
  },
  {
   "cell_type": "code",
   "execution_count": null,
   "metadata": {},
   "outputs": [],
   "source": []
  }
 ],
 "metadata": {
  "kernelspec": {
   "display_name": "Python 3",
   "language": "python",
   "name": "python3"
  },
  "language_info": {
   "codemirror_mode": {
    "name": "ipython",
    "version": 3
   },
   "file_extension": ".py",
   "mimetype": "text/x-python",
   "name": "python",
   "nbconvert_exporter": "python",
   "pygments_lexer": "ipython3",
   "version": "3.8.3"
  }
 },
 "nbformat": 4,
 "nbformat_minor": 4
}
