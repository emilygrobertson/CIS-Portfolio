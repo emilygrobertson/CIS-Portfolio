{
 "cells": [
  {
   "cell_type": "markdown",
   "metadata": {},
   "source": [
    "# CIS 443-01 - Analytics Programming\n",
    "## Program 1\n",
    "__Grading ID__: D7759<br>\n",
    "__Due__: Wednesday, September 9 (by 11:59 PM)<br />\n",
    "__Worth__: 50 pts.<br />\n",
    "__Purpose__: Use repetition control structure and accumulator pattern to estimate value of π."
   ]
  },
  {
   "cell_type": "markdown",
   "metadata": {},
   "source": [
    "### Directions\n",
    "In the code cell below, write Python code to accomplish the following using what you've learned through Chapter 3. Complete Exercise 3.14 from p. 114.\n",
    "\n",
    "Write your solution to allow the user to enter a value for the number of terms that they want the code to run for in the approximation calculation. Output the estimate after each term is added in a tabular format, using f-strings, field width, and right-alignment. Print the term number in a field with width of 8 and the estimate of π in a field with width of 10 and 6 digits after the decimal. (45 pts.)\n",
    "\n",
    "Use your code to answer the questions cells below. (5 pts.)\n",
    "\n",
    "I suggest that you develop your solution in steps. You must alternate between subtraction and addition on each term (or, use addition with a coefficient that alternates from -1 to +1 on each term), so you might start with that. The denominator is going up by 2s each term, so 3, 5, 7, etc., so maybe get that working next. Once you have all the pieces working, then you put it together in a summation (that starts from 4 instead of 0 for this series).\n",
    "\n",
    "If you prefer, you may submit a Python script instead (_Prog1.py_) of a notebook but remember to answer the questions below by including them in comments at end of script if you choose this route.\n",
    "\n",
    "If you wish to incorporate a little of Chapter 4, put the code for the estimation in a method named _pi_estimator_ that accepts number of terms as a parameter."
   ]
  },
  {
   "cell_type": "code",
   "execution_count": null,
   "metadata": {},
   "outputs": [],
   "source": [
    "\"\"\" This program computes the value of pi from an infinite series\"\"\"\n",
    "#Problem 3.14\n",
    "\n",
    "pi_approx = 0 #this will be used to control the approximation of pi given in the problem\n",
    "operator = 1 # this will be used for the switch between positive and negative\n",
    "value = int(input('Please enter a value:')) #asks the user to enter a value\n",
    "step = 1\n",
    "value+= step\n",
    "\n",
    "#This will start the loop at 0 and end at the value specified by the user\n",
    "for i in range (0,value, step):\n",
    "    pi_approx += (4 * operator) / (2 * i + 1) #equation for the approximation of pi: numerator will equal 4 divided by the denominator which goes up by 2 each time and is then multiplied by the value in the loop and then added by 1\n",
    "    operator = (-1 * operator)\n",
    "    if i!= 0:\n",
    "        print(f'\\n {i:>8} {pi_approx:>10.6f}') #This will print the output of the loop using f-strings, field width, & right-allignment. I added a \\n to make it look more like a table.\n",
    "    "
   ]
  },
  {
   "cell_type": "markdown",
   "metadata": {},
   "source": [
    "How many terms of this series do you have to use before you first get 3.14?<br />\n",
    "118\n",
    "\n",
    "3.141?\n",
    "1,687\n",
    "\n",
    "3.1415?\n",
    "10,793\n",
    "\n",
    "3.14159?\n",
    "136,214\n",
    "Double click the cell in Jupyter to edit (5 pts.)"
   ]
  },
  {
   "cell_type": "markdown",
   "metadata": {},
   "source": [
    "Be sure to save and exit your Jupyter Notebook and Shutdown Jupyter Lab (from the __File__ menu) before you submit your notebook on Blackboard for grading."
   ]
  }
 ],
 "metadata": {
  "kernelspec": {
   "display_name": "Python 3",
   "language": "python",
   "name": "python3"
  },
  "language_info": {
   "codemirror_mode": {
    "name": "ipython",
    "version": 3
   },
   "file_extension": ".py",
   "mimetype": "text/x-python",
   "name": "python",
   "nbconvert_exporter": "python",
   "pygments_lexer": "ipython3",
   "version": "3.8.3"
  }
 },
 "nbformat": 4,
 "nbformat_minor": 4
}
